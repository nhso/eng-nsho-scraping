{
  "cells": [
    {
      "cell_type": "markdown",
      "metadata": {
        "colab_type": "text",
        "id": "view-in-github"
      },
      "source": [
        "<a href=\"https://colab.research.google.com/github/nhso/eng-nsho-scraping/blob/Version-0.2-Update-fine-pdf-URLs/%E0%B8%AA%E0%B8%9B%E0%B8%AA%E0%B8%8A_scraping.ipynb\" target=\"_parent\"><img src=\"https://colab.research.google.com/assets/colab-badge.svg\" alt=\"Open In Colab\"/></a>"
      ]
    },
    {
      "cell_type": "code",
      "execution_count": 3,
      "metadata": {
        "id": "6ax1HT_pvbdn"
      },
      "outputs": [],
      "source": [
        "import requests\n",
        "import pandas as pd\n",
        "from bs4 import BeautifulSoup"
      ]
    },
    {
      "cell_type": "code",
      "execution_count": 4,
      "metadata": {
        "id": "-Wq7MZ6orycE"
      },
      "outputs": [],
      "source": [
        "#url = [\"http://eng.nhso.go.th/view/1/News/EN-US/?page=\", \"http://eng.nhso.go.th/view/1/In_Depth/EN-US/?page=\", \"http://eng.nhso.go.th/view/1/Events/EN-US\"]\n",
        "\n",
        "url = \"http://eng.nhso.go.th/view/1/News/EN-US/?page=\"\n",
        "page = 1\n",
        "new_urls = []\n",
        "\n",
        "while page <= 10 :\n",
        "  data = requests.get(url + str(page))\n",
        "  soup = BeautifulSoup(data.text,'html.parser')\n",
        "  page += 1\n",
        "  for i in range(1, 12) :\n",
        "    ne = soup.find_all(\"a\", {'class' : 'title-7'})[i]\n",
        "    new_urls.append(ne)\n",
        "\n",
        "url = \"http://eng.nhso.go.th/view/1/In_Depth/EN-US/?page=\"\n",
        "page = 1\n",
        "In_Depth_urls = []\n",
        "\n",
        "while page <= 11 :\n",
        "  data = requests.get(url + str(page))\n",
        "  soup = BeautifulSoup(data.text,'html.parser')\n",
        "  page += 1\n",
        "  for i in range(1, 8) :\n",
        "    IDep = soup.find_all(\"a\", {'href' : 'javascript:;'})[i]\n",
        "    new_urls.append(IDep)"
      ]
    },
    {
      "cell_type": "code",
      "execution_count": 5,
      "metadata": {
        "colab": {
          "base_uri": "https://localhost:8080/",
          "height": 390
        },
        "id": "WnrAk2Gl61QN",
        "outputId": "94a58544-84a9-403b-8ad7-d87120c5ce1f"
      },
      "outputs": [
        {
          "data": {
            "text/html": [
              "<div>\n",
              "<style scoped>\n",
              "    .dataframe tbody tr th:only-of-type {\n",
              "        vertical-align: middle;\n",
              "    }\n",
              "\n",
              "    .dataframe tbody tr th {\n",
              "        vertical-align: top;\n",
              "    }\n",
              "\n",
              "    .dataframe thead th {\n",
              "        text-align: right;\n",
              "    }\n",
              "</style>\n",
              "<table border=\"1\" class=\"dataframe\">\n",
              "  <thead>\n",
              "    <tr style=\"text-align: right;\">\n",
              "      <th></th>\n",
              "      <th>URLs</th>\n",
              "    </tr>\n",
              "  </thead>\n",
              "  <tbody>\n",
              "    <tr>\n",
              "      <th>0</th>\n",
              "      <td>https://eng.nhso.go.th/view/1/DescriptionNews/...</td>\n",
              "    </tr>\n",
              "    <tr>\n",
              "      <th>1</th>\n",
              "      <td>https://eng.nhso.go.th/view/1/DescriptionNews/...</td>\n",
              "    </tr>\n",
              "    <tr>\n",
              "      <th>2</th>\n",
              "      <td>https://eng.nhso.go.th/view/1/DescriptionNews/...</td>\n",
              "    </tr>\n",
              "    <tr>\n",
              "      <th>3</th>\n",
              "      <td>https://eng.nhso.go.th/view/1/DescriptionNews/...</td>\n",
              "    </tr>\n",
              "    <tr>\n",
              "      <th>4</th>\n",
              "      <td>https://eng.nhso.go.th/view/1/DescriptionNews/...</td>\n",
              "    </tr>\n",
              "    <tr>\n",
              "      <th>...</th>\n",
              "      <td>...</td>\n",
              "    </tr>\n",
              "    <tr>\n",
              "      <th>182</th>\n",
              "      <td>https://eng.nhso.go.th/view/1/DescriptionNews/...</td>\n",
              "    </tr>\n",
              "    <tr>\n",
              "      <th>183</th>\n",
              "      <td>https://eng.nhso.go.th/view/1/DescriptionNews/...</td>\n",
              "    </tr>\n",
              "    <tr>\n",
              "      <th>184</th>\n",
              "      <td>https://eng.nhso.go.th/view/1/DescriptionNews/...</td>\n",
              "    </tr>\n",
              "    <tr>\n",
              "      <th>185</th>\n",
              "      <td>https://eng.nhso.go.th/view/1/DescriptionNews/...</td>\n",
              "    </tr>\n",
              "    <tr>\n",
              "      <th>186</th>\n",
              "      <td>https://eng.nhso.go.th/view/1/DescriptionNews/...</td>\n",
              "    </tr>\n",
              "  </tbody>\n",
              "</table>\n",
              "<p>187 rows × 1 columns</p>\n",
              "</div>"
            ],
            "text/plain": [
              "                                                  URLs\n",
              "0    https://eng.nhso.go.th/view/1/DescriptionNews/...\n",
              "1    https://eng.nhso.go.th/view/1/DescriptionNews/...\n",
              "2    https://eng.nhso.go.th/view/1/DescriptionNews/...\n",
              "3    https://eng.nhso.go.th/view/1/DescriptionNews/...\n",
              "4    https://eng.nhso.go.th/view/1/DescriptionNews/...\n",
              "..                                                 ...\n",
              "182  https://eng.nhso.go.th/view/1/DescriptionNews/...\n",
              "183  https://eng.nhso.go.th/view/1/DescriptionNews/...\n",
              "184  https://eng.nhso.go.th/view/1/DescriptionNews/...\n",
              "185  https://eng.nhso.go.th/view/1/DescriptionNews/...\n",
              "186  https://eng.nhso.go.th/view/1/DescriptionNews/...\n",
              "\n",
              "[187 rows x 1 columns]"
            ]
          },
          "execution_count": 5,
          "metadata": {},
          "output_type": "execute_result"
        }
      ],
      "source": [
        "string_list = [str(element) for element in new_urls]\n",
        "new_urls = pd.DataFrame(string_list, columns=['Raw'])\n",
        "new_urls\n",
        "\n",
        "df_new = new_urls['Raw'].str.split(\"'\", expand=True)\n",
        "df_new.columns = ['Column1','URLs','Column1','Column1','Column1','Column1','Column1','Column1','Column1','Column1','Column1','Column1','Column1','Column1','Column1']\n",
        "columns_drop = ['Column1']\n",
        "news_urls = df_new.drop(columns_drop, axis=1)\n",
        "\n",
        "news_urls"
      ]
    },
    {
      "cell_type": "code",
      "execution_count": 6,
      "metadata": {
        "colab": {
          "base_uri": "https://localhost:8080/",
          "height": 583
        },
        "id": "X1d8FmxKuiAR",
        "outputId": "4039db0c-c9fe-4e29-dc03-8fb352f052e8"
      },
      "outputs": [],
      "source": [
        "url = [\"http://eng.nhso.go.th/view/1/Annual_Reports/EN-US\",\"http://eng.nhso.go.th/view/1/UHC_Public_Relations/EN-US\",\"http://eng.nhso.go.th/view/1/Articles/EN-US\",\"http://eng.nhso.go.th/view/1/Books/EN-US\",\"http://eng.nhso.go.th/view/1/Leaflets/EN-US\"\n",
        ", \"http://eng.nhso.go.th/view/1/Books/EN-US/?page=2\", \"http://eng.nhso.go.th/view/1/Books/EN-US/?page=3\", \"http://eng.nhso.go.th/view/1/Books/EN-US/?page=4\", \"http://eng.nhso.go.th/view/1/Books/EN-US/?page=5\", \"http://eng.nhso.go.th/view/1/Reports/EN-US\"\n",
        ", \"http://eng.nhso.go.th/view/1/Reports/EN-US/?page=2\", \"http://eng.nhso.go.th/view/1/Companion_Book/EN-US\"]\n",
        "\n",
        "pdf_url = []\n",
        "pdf_name = []\n",
        "for i in url:\n",
        "  data = requests.get(i)\n",
        "  soup = BeautifulSoup(data.text)\n",
        "  for j in soup.find_all(\"a\",style=\"text-align:left;\",href=\"javascript:;\") :\n",
        "    pdf_name.append(j.text)\n",
        "    pdf_url.append(j)\n",
        "\n",
        "table = pd.DataFrame([pdf_name, pdf_url]).transpose()\n",
        "table.columns = ['Title', 'DATA']\n",
        "table['DATA'] = table['DATA'].astype(str)\n",
        "df_new = table['DATA'].str.split(\"'\", expand=True)\n",
        "df_new.columns = ['Column1','URLs','Column1','Column1','Column1','Column1','Column1','Column1','Column1','Column1']\n",
        "pdf_only_urls = df_new.drop(columns_drop, axis=1)\n",
        "pdf_only_urls['URLs'] = 'http://eng.nhso.go.th' + pdf_only_urls['URLs']\n",
        "pdf_only_urls = pdf_only_urls.drop(index=49)\n",
        "pdf_only_urls = pdf_only_urls.reset_index().drop(columns='index')\n",
        "\n",
        "#pdf_only_urls"
      ]
    },
    {
      "cell_type": "code",
      "execution_count": 7,
      "metadata": {
        "colab": {
          "base_uri": "https://localhost:8080/",
          "height": 736
        },
        "id": "sn6soOlAKNJV",
        "outputId": "a74e3343-6caf-47f3-afdc-2b14572b70ef"
      },
      "outputs": [],
      "source": [
        "url = [\"http://eng.nhso.go.th/view/1/Philosophy_Background/EN-US\",\"http://eng.nhso.go.th/view/1/NHSO_Regional_Office/EN-US\",\"http://eng.nhso.go.th/view/1/National_Health_Security_Act_B.E.2545/EN-US\",\"http://eng.nhso.go.th/view/1/Contact_NHSO/EN-US\"]\n",
        "\n",
        "body = []\n",
        "\n",
        "for i in url:\n",
        "  data = requests.get(i)\n",
        "  soup = BeautifulSoup(data.text,)\n",
        "  for j in soup.find_all(\"div\",{\"id\":\"content-B\"}) :\n",
        "    if \"titel-head\" in j.get(\"class\" ,[]) :\n",
        "      continue\n",
        "    body.append(j.text)\n",
        "\n",
        "table = pd.DataFrame(body)\n",
        "table.columns = ['DATA']\n",
        "\n",
        "#table"
      ]
    },
    {
      "cell_type": "code",
      "execution_count": 8,
      "metadata": {
        "colab": {
          "base_uri": "https://localhost:8080/",
          "height": 1703
        },
        "id": "HNXhQNnTvMr2",
        "outputId": "6981dd0e-987c-4c88-85bc-44014e6633f8"
      },
      "outputs": [],
      "source": [
        "url = [\"http://eng.nhso.go.th/view/1/Vision_Mission/EN-US\", \"http://eng.nhso.go.th/view/1/NHSO_Board/EN-US\", \"http://eng.nhso.go.th/view/1/NHSO_Executive/EN-US\",\n",
        "       \"http://eng.nhso.go.th/view/1/NHSB/EN-US\", \"http://eng.nhso.go.th/view/1/QSC/EN-US\"]\n",
        "\n",
        "for i in url:\n",
        "  data = requests.get(i)\n",
        "  soup = BeautifulSoup(data.text,)\n",
        "  for j in soup.find_all(\"div\",{\"id\":\"content-A\"}) :\n",
        "    if \"page-tree\" in j.get(\"class\" ,[]) :\n",
        "      continue\n",
        "    body.append(j.text)\n",
        "\n",
        "table = pd.DataFrame(body)\n",
        "table.columns = ['DATA']\n",
        "\n",
        "#table"
      ]
    }
  ],
  "metadata": {
    "colab": {
      "authorship_tag": "ABX9TyPcmszi+SmY7XAmFlJZcSYR",
      "include_colab_link": true,
      "provenance": []
    },
    "kernelspec": {
      "display_name": "Python 3",
      "name": "python3"
    },
    "language_info": {
      "codemirror_mode": {
        "name": "ipython",
        "version": 3
      },
      "file_extension": ".py",
      "mimetype": "text/x-python",
      "name": "python",
      "nbconvert_exporter": "python",
      "pygments_lexer": "ipython3",
      "version": "3.9.6"
    }
  },
  "nbformat": 4,
  "nbformat_minor": 0
}
